{
 "cells": [
  {
   "cell_type": "markdown",
   "id": "562bb776",
   "metadata": {},
   "source": [
    "1. Basic Iteration Over Sequences"
   ]
  },
  {
   "cell_type": "code",
   "execution_count": 35,
   "id": "0faa908d",
   "metadata": {},
   "outputs": [
    {
     "name": "stdout",
     "output_type": "stream",
     "text": [
      "apple\n",
      "banana\n",
      "cherry\n"
     ]
    }
   ],
   "source": [
    "# List\n",
    "fruits = ['apple', 'banana', 'cherry']\n",
    "for fruit in fruits:\n",
    "    print(fruit)\n"
   ]
  },
  {
   "cell_type": "code",
   "execution_count": 36,
   "id": "dfcb9340",
   "metadata": {},
   "outputs": [
    {
     "name": "stdout",
     "output_type": "stream",
     "text": [
      "red\n",
      "green\n",
      "blue\n"
     ]
    }
   ],
   "source": [
    "# Tuple\n",
    "colors = ('red', 'green', 'blue')\n",
    "for color in colors:\n",
    "    print(color)"
   ]
  },
  {
   "cell_type": "code",
   "execution_count": 37,
   "id": "502c5b5d",
   "metadata": {},
   "outputs": [
    {
     "name": "stdout",
     "output_type": "stream",
     "text": [
      "H\n",
      "e\n",
      "l\n",
      "l\n",
      "o\n"
     ]
    }
   ],
   "source": [
    "# String\n",
    "message = \"Hello\"\n",
    "for char in message:\n",
    "    print(char)"
   ]
  },
  {
   "cell_type": "markdown",
   "id": "ad1f6b24",
   "metadata": {},
   "source": [
    "2. Using range()"
   ]
  },
  {
   "cell_type": "code",
   "execution_count": 38,
   "id": "db497db8",
   "metadata": {},
   "outputs": [
    {
     "name": "stdout",
     "output_type": "stream",
     "text": [
      "0\n",
      "1\n",
      "2\n",
      "3\n",
      "4\n"
     ]
    }
   ],
   "source": [
    "# Basic range\n",
    "for i in range(5):  # 0 to 4\n",
    "    print(i)"
   ]
  },
  {
   "cell_type": "code",
   "execution_count": 39,
   "id": "d1701d87",
   "metadata": {},
   "outputs": [
    {
     "name": "stdout",
     "output_type": "stream",
     "text": [
      "2\n",
      "3\n",
      "4\n",
      "5\n"
     ]
    }
   ],
   "source": [
    "# With start and end\n",
    "for i in range(2, 6):  # 2 to 5\n",
    "    print(i)"
   ]
  },
  {
   "cell_type": "code",
   "execution_count": 40,
   "id": "3692b83e",
   "metadata": {},
   "outputs": [
    {
     "name": "stdout",
     "output_type": "stream",
     "text": [
      "0\n",
      "2\n",
      "4\n",
      "6\n",
      "8\n"
     ]
    }
   ],
   "source": [
    "# With step\n",
    "for i in range(0, 10, 2):  # 0, 2, 4, 6, 8\n",
    "    print(i)"
   ]
  },
  {
   "cell_type": "code",
   "execution_count": 41,
   "id": "f065ed65",
   "metadata": {},
   "outputs": [
    {
     "name": "stdout",
     "output_type": "stream",
     "text": [
      "5\n",
      "4\n",
      "3\n",
      "2\n",
      "1\n"
     ]
    }
   ],
   "source": [
    "# Reverse counting\n",
    "for i in range(5, 0, -1):  # 5 to 1\n",
    "    print(i)"
   ]
  },
  {
   "cell_type": "markdown",
   "id": "68ff49fd",
   "metadata": {},
   "source": [
    "3. Iterating Over Dictionaries"
   ]
  },
  {
   "cell_type": "code",
   "execution_count": 42,
   "id": "89de9853",
   "metadata": {},
   "outputs": [
    {
     "name": "stdout",
     "output_type": "stream",
     "text": [
      "name\n",
      "age\n",
      "city\n"
     ]
    }
   ],
   "source": [
    "person = {'name': 'Alice', 'age': 25, 'city': 'New York'}\n",
    "\n",
    "# Keys only\n",
    "for key in person:\n",
    "    print(key)"
   ]
  },
  {
   "cell_type": "code",
   "execution_count": 43,
   "id": "748f2736",
   "metadata": {},
   "outputs": [
    {
     "name": "stdout",
     "output_type": "stream",
     "text": [
      "name\n",
      "age\n",
      "city\n"
     ]
    }
   ],
   "source": [
    "# Keys explicitly\n",
    "for key in person.keys():\n",
    "    print(key)"
   ]
  },
  {
   "cell_type": "code",
   "execution_count": 44,
   "id": "cdd445e1",
   "metadata": {},
   "outputs": [
    {
     "name": "stdout",
     "output_type": "stream",
     "text": [
      "Alice\n",
      "25\n",
      "New York\n"
     ]
    }
   ],
   "source": [
    "# Values\n",
    "for value in person.values():\n",
    "    print(value)"
   ]
  },
  {
   "cell_type": "code",
   "execution_count": 45,
   "id": "3ea9a075",
   "metadata": {},
   "outputs": [
    {
     "name": "stdout",
     "output_type": "stream",
     "text": [
      "name: Alice\n",
      "age: 25\n",
      "city: New York\n"
     ]
    }
   ],
   "source": [
    "# Key-value pairs\n",
    "for key, value in person.items():\n",
    "    print(f\"{key}: {value}\")"
   ]
  },
  {
   "cell_type": "markdown",
   "id": "18a21d6e",
   "metadata": {},
   "source": [
    "4. Nested Loops"
   ]
  },
  {
   "cell_type": "code",
   "execution_count": 46,
   "id": "590ac07c",
   "metadata": {},
   "outputs": [
    {
     "name": "stdout",
     "output_type": "stream",
     "text": [
      "1 2 3 \n",
      "4 5 6 \n",
      "7 8 9 \n"
     ]
    }
   ],
   "source": [
    "matrix = [[1, 2, 3], [4, 5, 6], [7, 8, 9]]\n",
    "\n",
    "for row in matrix:\n",
    "    for num in row:\n",
    "        print(num, end=' ')\n",
    "    print()  # New line after each row"
   ]
  },
  {
   "cell_type": "markdown",
   "id": "94bdf612",
   "metadata": {},
   "source": [
    "5. Using enumerate()"
   ]
  },
  {
   "cell_type": "code",
   "execution_count": 47,
   "id": "4b3432dc",
   "metadata": {},
   "outputs": [
    {
     "name": "stdout",
     "output_type": "stream",
     "text": [
      "Index 0: apple\n",
      "Index 1: banana\n",
      "Index 2: cherry\n"
     ]
    }
   ],
   "source": [
    "fruits = ['apple', 'banana', 'cherry']\n",
    "\n",
    "# With index and value\n",
    "for index, fruit in enumerate(fruits):\n",
    "    print(f\"Index {index}: {fruit}\")"
   ]
  },
  {
   "cell_type": "code",
   "execution_count": 48,
   "id": "76a7adb2",
   "metadata": {},
   "outputs": [
    {
     "name": "stdout",
     "output_type": "stream",
     "text": [
      "#1: apple\n",
      "#2: banana\n",
      "#3: cherry\n"
     ]
    }
   ],
   "source": [
    "# With custom start index\n",
    "for index, fruit in enumerate(fruits, start=1):\n",
    "    print(f\"#{index}: {fruit}\")"
   ]
  },
  {
   "cell_type": "markdown",
   "id": "e0f29423",
   "metadata": {},
   "source": [
    "6. Using zip()"
   ]
  },
  {
   "cell_type": "code",
   "execution_count": 49,
   "id": "d6f5f54c",
   "metadata": {},
   "outputs": [
    {
     "name": "stdout",
     "output_type": "stream",
     "text": [
      "Alice is 25 years old\n",
      "Bob is 30 years old\n",
      "Charlie is 35 years old\n"
     ]
    }
   ],
   "source": [
    "names = ['Alice', 'Bob', 'Charlie']\n",
    "ages = [25, 30, 35]\n",
    "\n",
    "# Iterate over multiple sequences simultaneously\n",
    "for name, age in zip(names, ages):\n",
    "    print(f\"{name} is {age} years old\")"
   ]
  },
  {
   "cell_type": "markdown",
   "id": "48787935",
   "metadata": {},
   "source": [
    "7. Iterating Over Files"
   ]
  },
  {
   "cell_type": "code",
   "execution_count": 50,
   "id": "52a49406",
   "metadata": {},
   "outputs": [
    {
     "name": "stdout",
     "output_type": "stream",
     "text": [
      "Qui deserunt dolore culpa id culpa enim dolore velit ipsum. Labore proident sint dolor ipsum aute ad nisi aute enim in ipsum velit. Duis mollit consequat exercitation laboris culpa et ut aliqua irure occaecat. Pariatur mollit laborum duis labore Lorem nostrud aute duis irure in. Ea fugiat anim labore adipisicing cillum esse.\n",
      "\n",
      "Tempor do laborum duis ipsum dolore nulla et mollit ut irure commodo culpa aute. Voluptate incididunt cupidatat consectetur ullamco nisi pariatur adipisicing. Nulla laboris nulla ea et est do. Sunt proident non eu mollit ut aliqua quis Lorem laboris. Ad qui non enim nulla nulla tempor. Ea deserunt ullamco aliqua nulla.\n",
      "\n",
      "Magna velit labore culpa labore elit qui esse duis eu commodo officia. Qui cillum exercitation aute ullamco exercitation. Nisi eu laborum enim ullamco laboris Lorem ea excepteur laborum commodo labore.\n",
      "\n",
      "Anim nostrud ad fugiat aliqua irure reprehenderit duis id in reprehenderit consectetur pariatur laborum sit. Commodo sit ut est minim nisi in. Quis irure consectetur ad aliqua velit labore. Dolore officia anim eu quis adipisicing excepteur eu ex pariatur deserunt cupidatat quis.\n"
     ]
    }
   ],
   "source": [
    "# Reading a file line by line\n",
    "with open('file.txt', 'r') as file:\n",
    "    for line in file:\n",
    "        print(line.strip())"
   ]
  },
  {
   "cell_type": "markdown",
   "id": "9287af5c",
   "metadata": {},
   "source": [
    "8. Using else Clause"
   ]
  },
  {
   "cell_type": "code",
   "execution_count": 51,
   "id": "478e20a5",
   "metadata": {},
   "outputs": [
    {
     "name": "stdout",
     "output_type": "stream",
     "text": [
      "0\n",
      "1\n",
      "2\n",
      "3\n",
      "4\n",
      "Loop completed successfully\n"
     ]
    }
   ],
   "source": [
    "for i in range(5):\n",
    "    print(i)\n",
    "else:\n",
    "    print(\"Loop completed successfully\")  # Executes if loop wasn't broken"
   ]
  },
  {
   "cell_type": "markdown",
   "id": "d2afdfea",
   "metadata": {},
   "source": [
    "9. List Comprehensions (Compact for loops)"
   ]
  },
  {
   "cell_type": "code",
   "execution_count": 52,
   "id": "b98c85c5",
   "metadata": {},
   "outputs": [
    {
     "name": "stdout",
     "output_type": "stream",
     "text": [
      "[0, 4, 16, 36, 64]\n"
     ]
    }
   ],
   "source": [
    "# Basic list comprehension\n",
    "squares = [x**2 for x in range(10)]\n",
    "\n",
    "# With condition\n",
    "even_squares = [x**2 for x in range(10) if x % 2 == 0]\n",
    "print(even_squares)"
   ]
  },
  {
   "cell_type": "markdown",
   "id": "9ffdbc3d",
   "metadata": {},
   "source": [
    "10. Generator Expressions"
   ]
  },
  {
   "cell_type": "code",
   "execution_count": 53,
   "id": "461d3604",
   "metadata": {},
   "outputs": [
    {
     "name": "stdout",
     "output_type": "stream",
     "text": [
      "333332833333500000\n"
     ]
    }
   ],
   "source": [
    "# Memory-efficient iteration\n",
    "sum_of_squares = sum(x**2 for x in range(1000000))\n",
    "print(sum_of_squares)"
   ]
  },
  {
   "cell_type": "markdown",
   "id": "ea00c3f8",
   "metadata": {},
   "source": [
    "11. Breaking and Continuing"
   ]
  },
  {
   "cell_type": "code",
   "execution_count": 54,
   "id": "9daa33d9",
   "metadata": {},
   "outputs": [
    {
     "name": "stdout",
     "output_type": "stream",
     "text": [
      "0\n",
      "1\n",
      "2\n",
      "4\n",
      "5\n",
      "6\n"
     ]
    }
   ],
   "source": [
    "for i in range(10):\n",
    "    if i == 3:\n",
    "        continue  # Skip this iteration\n",
    "    if i == 7:\n",
    "        break    # Exit loop entirely\n",
    "    print(i)"
   ]
  },
  {
   "cell_type": "markdown",
   "id": "f4519caf",
   "metadata": {},
   "source": [
    "12. Iterating Over Custom Objects"
   ]
  },
  {
   "cell_type": "code",
   "execution_count": 55,
   "id": "a8c99d3b",
   "metadata": {},
   "outputs": [
    {
     "name": "stdout",
     "output_type": "stream",
     "text": [
      "5\n",
      "4\n",
      "3\n",
      "2\n",
      "1\n"
     ]
    }
   ],
   "source": [
    "class CountDown:\n",
    "    def __init__(self, start):\n",
    "        self.start = start\n",
    "    \n",
    "    def __iter__(self):\n",
    "        current = self.start\n",
    "        while current > 0:\n",
    "            yield current\n",
    "            current -= 1\n",
    "\n",
    "for num in CountDown(5):\n",
    "    print(num)  # Prints 5, 4, 3, 2, 1"
   ]
  },
  {
   "cell_type": "markdown",
   "id": "f7e82c4e",
   "metadata": {},
   "source": [
    "13. Using itertools Module"
   ]
  },
  {
   "cell_type": "code",
   "execution_count": 56,
   "id": "1de07ce0",
   "metadata": {},
   "outputs": [
    {
     "name": "stdout",
     "output_type": "stream",
     "text": [
      "0\n",
      "2\n",
      "4\n",
      "6\n",
      "8\n",
      "10\n"
     ]
    }
   ],
   "source": [
    "import itertools\n",
    "\n",
    "# Infinite loop with counter\n",
    "for i in itertools.count(start=0, step=2):\n",
    "    if i > 10:\n",
    "        break\n",
    "    print(i)\n"
   ]
  },
  {
   "cell_type": "code",
   "execution_count": 57,
   "id": "2116103c",
   "metadata": {},
   "outputs": [
    {
     "name": "stdout",
     "output_type": "stream",
     "text": [
      "A\n",
      "B\n",
      "C\n",
      "A\n",
      "B\n",
      "C\n"
     ]
    }
   ],
   "source": [
    "# Cycling through elements\n",
    "count = 0\n",
    "for item in itertools.cycle(['A', 'B', 'C']):\n",
    "    if count > 5:\n",
    "        break\n",
    "    print(item)\n",
    "    count += 1"
   ]
  },
  {
   "cell_type": "markdown",
   "id": "849ea140",
   "metadata": {},
   "source": [
    "14. One-Liner for Loops"
   ]
  },
  {
   "cell_type": "code",
   "execution_count": 58,
   "id": "e157c562",
   "metadata": {},
   "outputs": [
    {
     "name": "stdout",
     "output_type": "stream",
     "text": [
      "0\n",
      "1\n",
      "2\n"
     ]
    },
    {
     "data": {
      "text/plain": [
       "[None, None, None]"
      ]
     },
     "execution_count": 58,
     "metadata": {},
     "output_type": "execute_result"
    }
   ],
   "source": [
    "# Simple one-liner\n",
    "[print(x) for x in range(3)]  # Prints 0, 1, 2 (but creates a list)"
   ]
  }
 ],
 "metadata": {
  "kernelspec": {
   "display_name": ".venv",
   "language": "python",
   "name": "python3"
  },
  "language_info": {
   "codemirror_mode": {
    "name": "ipython",
    "version": 3
   },
   "file_extension": ".py",
   "mimetype": "text/x-python",
   "name": "python",
   "nbconvert_exporter": "python",
   "pygments_lexer": "ipython3",
   "version": "3.10.0"
  }
 },
 "nbformat": 4,
 "nbformat_minor": 5
}
