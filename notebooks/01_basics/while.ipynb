{
 "cells": [
  {
   "cell_type": "markdown",
   "id": "279efe85",
   "metadata": {},
   "source": []
  },
  {
   "cell_type": "markdown",
   "id": "df97f085",
   "metadata": {},
   "source": [
    "1. Basic Countdown Loop"
   ]
  },
  {
   "cell_type": "code",
   "execution_count": 1,
   "id": "faf80374",
   "metadata": {},
   "outputs": [
    {
     "name": "stdout",
     "output_type": "stream",
     "text": [
      "5\n",
      "4\n",
      "3\n",
      "2\n",
      "1\n",
      "Liftoff!\n"
     ]
    }
   ],
   "source": [
    "# Countdown from 5 to 1\n",
    "count = 5\n",
    "while count > 0:\n",
    "    print(count)\n",
    "    count -= 1\n",
    "print(\"Liftoff!\")"
   ]
  },
  {
   "cell_type": "markdown",
   "id": "09374e6f",
   "metadata": {},
   "source": [
    "2. User Input Validation"
   ]
  },
  {
   "cell_type": "code",
   "execution_count": 3,
   "id": "6ff85f90",
   "metadata": {},
   "outputs": [
    {
     "name": "stdout",
     "output_type": "stream",
     "text": [
      "You entered: \n"
     ]
    }
   ],
   "source": [
    "# Keep asking until valid input\n",
    "# Keep asking until valid input\n",
    "while True:\n",
    "    user_input = input(\"Enter 'quit' to exit: \")\n",
    "    if user_input.lower() == 'quit':\n",
    "        break\n",
    "    print(f\"You entered: {user_input}\")"
   ]
  },
  {
   "cell_type": "markdown",
   "id": "204f81d9",
   "metadata": {},
   "source": [
    "3. Sentinel Value Pattern"
   ]
  },
  {
   "cell_type": "code",
   "execution_count": 7,
   "id": "04e0cd44",
   "metadata": {},
   "outputs": [
    {
     "name": "stdout",
     "output_type": "stream",
     "text": [
      "Total: 9\n"
     ]
    }
   ],
   "source": [
    "# Process input until special value encountered\n",
    "total = 0\n",
    "while True:\n",
    "    num = int(input(\"Enter number (0 to stop): \"))\n",
    "    if num == 0:\n",
    "        break\n",
    "    total += num\n",
    "print(f\"Total: {total}\")"
   ]
  },
  {
   "cell_type": "markdown",
   "id": "41ba0d33",
   "metadata": {},
   "source": [
    "4. Game Loop"
   ]
  },
  {
   "cell_type": "code",
   "execution_count": 8,
   "id": "bb83bbf3",
   "metadata": {},
   "outputs": [
    {
     "name": "stdout",
     "output_type": "stream",
     "text": [
      "Score: 0\n",
      "Score: 10\n",
      "Score: 20\n",
      "Score: 30\n",
      "Score: 40\n",
      "Score: 50\n",
      "Score: 60\n",
      "Score: 70\n",
      "Score: 80\n",
      "Score: 90\n",
      "Score: 100\n",
      "Score: 110\n",
      "Score: 120\n",
      "Score: 130\n",
      "Score: 140\n",
      "Score: 150\n",
      "Score: 160\n",
      "Score: 170\n",
      "Score: 180\n",
      "Score: 190\n",
      "Score: 200\n",
      "Score: 210\n",
      "Score: 220\n",
      "Score: 230\n",
      "Score: 240\n",
      "Score: 250\n",
      "Score: 260\n"
     ]
    },
    {
     "ename": "KeyboardInterrupt",
     "evalue": "Interrupted by user",
     "output_type": "error",
     "traceback": [
      "\u001b[1;31m---------------------------------------------------------------------------\u001b[0m",
      "\u001b[1;31mKeyboardInterrupt\u001b[0m                         Traceback (most recent call last)",
      "Cell \u001b[1;32mIn[8], line 7\u001b[0m\n\u001b[0;32m      5\u001b[0m \u001b[38;5;28mprint\u001b[39m(\u001b[38;5;124mf\u001b[39m\u001b[38;5;124m\"\u001b[39m\u001b[38;5;124mScore: \u001b[39m\u001b[38;5;132;01m{\u001b[39;00mscore\u001b[38;5;132;01m}\u001b[39;00m\u001b[38;5;124m\"\u001b[39m)\n\u001b[0;32m      6\u001b[0m \u001b[38;5;66;03m# Game logic here\u001b[39;00m\n\u001b[1;32m----> 7\u001b[0m user_action \u001b[38;5;241m=\u001b[39m \u001b[38;5;28;43minput\u001b[39;49m\u001b[43m(\u001b[49m\u001b[38;5;124;43m\"\u001b[39;49m\u001b[38;5;124;43mAction (quit/continue): \u001b[39;49m\u001b[38;5;124;43m\"\u001b[39;49m\u001b[43m)\u001b[49m\n\u001b[0;32m      8\u001b[0m \u001b[38;5;28;01mif\u001b[39;00m user_action \u001b[38;5;241m==\u001b[39m \u001b[38;5;124m'\u001b[39m\u001b[38;5;124mquit\u001b[39m\u001b[38;5;124m'\u001b[39m:\n\u001b[0;32m      9\u001b[0m     game_active \u001b[38;5;241m=\u001b[39m \u001b[38;5;28;01mFalse\u001b[39;00m\n",
      "File \u001b[1;32md:\\Automation\\Proyectos\\python-notes\\.venv\\lib\\site-packages\\ipykernel\\kernelbase.py:1260\u001b[0m, in \u001b[0;36mKernel.raw_input\u001b[1;34m(self, prompt)\u001b[0m\n\u001b[0;32m   1258\u001b[0m     msg \u001b[38;5;241m=\u001b[39m \u001b[38;5;124m\"\u001b[39m\u001b[38;5;124mraw_input was called, but this frontend does not support input requests.\u001b[39m\u001b[38;5;124m\"\u001b[39m\n\u001b[0;32m   1259\u001b[0m     \u001b[38;5;28;01mraise\u001b[39;00m StdinNotImplementedError(msg)\n\u001b[1;32m-> 1260\u001b[0m \u001b[38;5;28;01mreturn\u001b[39;00m \u001b[38;5;28;43mself\u001b[39;49m\u001b[38;5;241;43m.\u001b[39;49m\u001b[43m_input_request\u001b[49m\u001b[43m(\u001b[49m\n\u001b[0;32m   1261\u001b[0m \u001b[43m    \u001b[49m\u001b[38;5;28;43mstr\u001b[39;49m\u001b[43m(\u001b[49m\u001b[43mprompt\u001b[49m\u001b[43m)\u001b[49m\u001b[43m,\u001b[49m\n\u001b[0;32m   1262\u001b[0m \u001b[43m    \u001b[49m\u001b[38;5;28;43mself\u001b[39;49m\u001b[38;5;241;43m.\u001b[39;49m\u001b[43m_parent_ident\u001b[49m\u001b[43m[\u001b[49m\u001b[38;5;124;43m\"\u001b[39;49m\u001b[38;5;124;43mshell\u001b[39;49m\u001b[38;5;124;43m\"\u001b[39;49m\u001b[43m]\u001b[49m\u001b[43m,\u001b[49m\n\u001b[0;32m   1263\u001b[0m \u001b[43m    \u001b[49m\u001b[38;5;28;43mself\u001b[39;49m\u001b[38;5;241;43m.\u001b[39;49m\u001b[43mget_parent\u001b[49m\u001b[43m(\u001b[49m\u001b[38;5;124;43m\"\u001b[39;49m\u001b[38;5;124;43mshell\u001b[39;49m\u001b[38;5;124;43m\"\u001b[39;49m\u001b[43m)\u001b[49m\u001b[43m,\u001b[49m\n\u001b[0;32m   1264\u001b[0m \u001b[43m    \u001b[49m\u001b[43mpassword\u001b[49m\u001b[38;5;241;43m=\u001b[39;49m\u001b[38;5;28;43;01mFalse\u001b[39;49;00m\u001b[43m,\u001b[49m\n\u001b[0;32m   1265\u001b[0m \u001b[43m\u001b[49m\u001b[43m)\u001b[49m\n",
      "File \u001b[1;32md:\\Automation\\Proyectos\\python-notes\\.venv\\lib\\site-packages\\ipykernel\\kernelbase.py:1305\u001b[0m, in \u001b[0;36mKernel._input_request\u001b[1;34m(self, prompt, ident, parent, password)\u001b[0m\n\u001b[0;32m   1302\u001b[0m \u001b[38;5;28;01mexcept\u001b[39;00m \u001b[38;5;167;01mKeyboardInterrupt\u001b[39;00m:\n\u001b[0;32m   1303\u001b[0m     \u001b[38;5;66;03m# re-raise KeyboardInterrupt, to truncate traceback\u001b[39;00m\n\u001b[0;32m   1304\u001b[0m     msg \u001b[38;5;241m=\u001b[39m \u001b[38;5;124m\"\u001b[39m\u001b[38;5;124mInterrupted by user\u001b[39m\u001b[38;5;124m\"\u001b[39m\n\u001b[1;32m-> 1305\u001b[0m     \u001b[38;5;28;01mraise\u001b[39;00m \u001b[38;5;167;01mKeyboardInterrupt\u001b[39;00m(msg) \u001b[38;5;28;01mfrom\u001b[39;00m\u001b[38;5;250m \u001b[39m\u001b[38;5;28;01mNone\u001b[39;00m\n\u001b[0;32m   1306\u001b[0m \u001b[38;5;28;01mexcept\u001b[39;00m \u001b[38;5;167;01mException\u001b[39;00m:\n\u001b[0;32m   1307\u001b[0m     \u001b[38;5;28mself\u001b[39m\u001b[38;5;241m.\u001b[39mlog\u001b[38;5;241m.\u001b[39mwarning(\u001b[38;5;124m\"\u001b[39m\u001b[38;5;124mInvalid Message:\u001b[39m\u001b[38;5;124m\"\u001b[39m, exc_info\u001b[38;5;241m=\u001b[39m\u001b[38;5;28;01mTrue\u001b[39;00m)\n",
      "\u001b[1;31mKeyboardInterrupt\u001b[0m: Interrupted by user"
     ]
    }
   ],
   "source": [
    "# Simple game loop\n",
    "game_active = True\n",
    "score = 0\n",
    "while game_active:\n",
    "    print(f\"Score: {score}\")\n",
    "    # Game logic here\n",
    "    user_action = input(\"Action (quit/continue): \")\n",
    "    if user_action == 'quit':\n",
    "        game_active = False\n",
    "    else:\n",
    "        score += 10\n",
    "print(\"Game over!\")"
   ]
  },
  {
   "cell_type": "markdown",
   "id": "8828728b",
   "metadata": {},
   "source": [
    "4. Game Loop"
   ]
  },
  {
   "cell_type": "code",
   "execution_count": null,
   "id": "502ff7ae",
   "metadata": {},
   "outputs": [
    {
     "name": "stdout",
     "output_type": "stream",
     "text": [
      "Score: 0\n",
      "Score: 10\n",
      "Score: 20\n",
      "Score: 30\n",
      "Score: 40\n",
      "Score: 50\n",
      "Score: 60\n",
      "Score: 70\n",
      "Score: 80\n",
      "Score: 90\n",
      "Score: 100\n",
      "Score: 110\n",
      "Score: 120\n",
      "Score: 130\n",
      "Score: 140\n",
      "Score: 150\n",
      "Score: 160\n",
      "Score: 170\n",
      "Score: 180\n",
      "Score: 190\n",
      "Score: 200\n",
      "Score: 210\n"
     ]
    }
   ],
   "source": [
    "# Simple game loop\n",
    "game_active = True\n",
    "score = 0\n",
    "while game_active:\n",
    "    print(f\"Score: {score}\")\n",
    "    # Game logic here\n",
    "    user_action = input(\"Action (quit/continue): \")\n",
    "    if user_action == 'quit':\n",
    "        game_active = False\n",
    "    else:\n",
    "        score += 10\n",
    "print(\"Game over!\")"
   ]
  },
  {
   "cell_type": "markdown",
   "id": "09ce0a3d",
   "metadata": {},
   "source": [
    "5. Processing Until Condition Met"
   ]
  },
  {
   "cell_type": "code",
   "execution_count": 1,
   "id": "836a1d16",
   "metadata": {},
   "outputs": [
    {
     "name": "stdout",
     "output_type": "stream",
     "text": [
      "1024\n"
     ]
    }
   ],
   "source": [
    "# Find first power of 2 greater than 1000\n",
    "n = 1\n",
    "while n <= 1000:\n",
    "    n *= 2\n",
    "print(n)  # 1024"
   ]
  },
  {
   "cell_type": "markdown",
   "id": "951cbc01",
   "metadata": {},
   "source": [
    "6. Monitoring External Conditions"
   ]
  },
  {
   "cell_type": "code",
   "execution_count": 2,
   "id": "353fc8ff",
   "metadata": {},
   "outputs": [
    {
     "name": "stdout",
     "output_type": "stream",
     "text": [
      "Current reading: 0.88\n",
      "Warning: Threshold exceeded!\n"
     ]
    }
   ],
   "source": [
    "# Simulating a sensor monitor\n",
    "import random\n",
    "import time\n",
    "\n",
    "threshold = 0.8\n",
    "while True:\n",
    "    reading = random.random()  # Simulate sensor reading\n",
    "    print(f\"Current reading: {reading:.2f}\")\n",
    "    if reading > threshold:\n",
    "        print(\"Warning: Threshold exceeded!\")\n",
    "        break\n",
    "    time.sleep(1)  # Check every second"
   ]
  },
  {
   "cell_type": "markdown",
   "id": "db3efe71",
   "metadata": {},
   "source": [
    "7. Implementing Retry Logic"
   ]
  },
  {
   "cell_type": "code",
   "execution_count": 3,
   "id": "5fe42cd3",
   "metadata": {},
   "outputs": [
    {
     "name": "stdout",
     "output_type": "stream",
     "text": [
      "Attempt 1...\n",
      "Operation succeeded!\n"
     ]
    }
   ],
   "source": [
    "# Retry an operation with exponential backoff\n",
    "import time\n",
    "\n",
    "max_retries = 5\n",
    "attempt = 0\n",
    "success = False\n",
    "\n",
    "while not success and attempt < max_retries:\n",
    "    attempt += 1\n",
    "    print(f\"Attempt {attempt}...\")\n",
    "    try:\n",
    "        # Simulate operation that might fail\n",
    "        if random.random() > 0.3:  # 70% chance of success\n",
    "            success = True\n",
    "            print(\"Operation succeeded!\")\n",
    "        else:\n",
    "            raise ValueError(\"Temporary failure\")\n",
    "    except ValueError:\n",
    "        wait_time = 2 ** attempt  # Exponential backoff\n",
    "        print(f\"Waiting {wait_time} seconds before retry...\")\n",
    "        time.sleep(wait_time)\n",
    "\n",
    "if not success:\n",
    "    print(\"Operation failed after maximum retries\")"
   ]
  },
  {
   "cell_type": "markdown",
   "id": "f6d45572",
   "metadata": {},
   "source": [
    "8. Infinite Loop with Break"
   ]
  },
  {
   "cell_type": "code",
   "execution_count": null,
   "id": "9a67c0dc",
   "metadata": {},
   "outputs": [
    {
     "name": "stdout",
     "output_type": "stream",
     "text": [
      "Executing: \n",
      "Executing: \n",
      "Executing: \n",
      "Executing: \n",
      "Executing: \n",
      "Executing: \n",
      "Executing: \n",
      "Executing: \n"
     ]
    }
   ],
   "source": [
    "# Server-like infinite loop\n",
    "while True:\n",
    "    command = input(\"Server command: \")\n",
    "    if command == 'shutdown':\n",
    "        print(\"Shutting down server...\")\n",
    "        break\n",
    "    print(f\"Executing: {command}\")\n",
    "    # Process command here"
   ]
  },
  {
   "cell_type": "markdown",
   "id": "5f5ef14c",
   "metadata": {},
   "source": [
    "9. Nested While Loops"
   ]
  },
  {
   "cell_type": "code",
   "execution_count": 1,
   "id": "f2b46cbc",
   "metadata": {},
   "outputs": [
    {
     "name": "stdout",
     "output_type": "stream",
     "text": [
      "1\t2\t3\t4\t5\t\n",
      "2\t4\t6\t8\t10\t\n",
      "3\t6\t9\t12\t15\t\n",
      "4\t8\t12\t16\t20\t\n",
      "5\t10\t15\t20\t25\t\n"
     ]
    }
   ],
   "source": [
    "# Multiplication table\n",
    "row = 1\n",
    "while row <= 5:\n",
    "    col = 1\n",
    "    while col <= 5:\n",
    "        print(row * col, end='\\t')\n",
    "        col += 1\n",
    "    print()  # New line\n",
    "    row += 1"
   ]
  },
  {
   "cell_type": "markdown",
   "id": "0a757a87",
   "metadata": {},
   "source": [
    "10. Using Else Clause"
   ]
  },
  {
   "cell_type": "code",
   "execution_count": 2,
   "id": "094c19e5",
   "metadata": {},
   "outputs": [
    {
     "ename": "ValueError",
     "evalue": "invalid literal for int() with base 10: ''",
     "output_type": "error",
     "traceback": [
      "\u001b[1;31m---------------------------------------------------------------------------\u001b[0m",
      "\u001b[1;31mValueError\u001b[0m                                Traceback (most recent call last)",
      "Cell \u001b[1;32mIn[2], line 7\u001b[0m\n\u001b[0;32m      4\u001b[0m max_guesses \u001b[38;5;241m=\u001b[39m \u001b[38;5;241m3\u001b[39m\n\u001b[0;32m      6\u001b[0m \u001b[38;5;28;01mwhile\u001b[39;00m guess_count \u001b[38;5;241m<\u001b[39m max_guesses:\n\u001b[1;32m----> 7\u001b[0m     guess \u001b[38;5;241m=\u001b[39m \u001b[38;5;28;43mint\u001b[39;49m\u001b[43m(\u001b[49m\u001b[38;5;28;43minput\u001b[39;49m\u001b[43m(\u001b[49m\u001b[38;5;124;43m\"\u001b[39;49m\u001b[38;5;124;43mGuess the number (1-10): \u001b[39;49m\u001b[38;5;124;43m\"\u001b[39;49m\u001b[43m)\u001b[49m\u001b[43m)\u001b[49m\n\u001b[0;32m      8\u001b[0m     guess_count \u001b[38;5;241m+\u001b[39m\u001b[38;5;241m=\u001b[39m \u001b[38;5;241m1\u001b[39m\n\u001b[0;32m      9\u001b[0m     \u001b[38;5;28;01mif\u001b[39;00m guess \u001b[38;5;241m==\u001b[39m secret:\n",
      "\u001b[1;31mValueError\u001b[0m: invalid literal for int() with base 10: ''"
     ]
    }
   ],
   "source": [
    "# Else executes if loop completes normally (no break)\n",
    "secret = 7\n",
    "guess_count = 0\n",
    "max_guesses = 3\n",
    "\n",
    "while guess_count < max_guesses:\n",
    "    guess = int(input(\"Guess the number (1-10): \"))\n",
    "    guess_count += 1\n",
    "    if guess == secret:\n",
    "        print(\"You won!\")\n",
    "        break\n",
    "else:\n",
    "    print(\"Sorry, you're out of guesses!\")"
   ]
  },
  {
   "cell_type": "markdown",
   "id": "8ef14142",
   "metadata": {},
   "source": [
    "11. State Machine Implementation"
   ]
  },
  {
   "cell_type": "code",
   "execution_count": 3,
   "id": "646a2aa3",
   "metadata": {},
   "outputs": [
    {
     "name": "stdout",
     "output_type": "stream",
     "text": [
      "You're in a dark room. Exits: north\n",
      "Invalid choice\n",
      "You're in a dark room. Exits: north\n",
      "Invalid choice\n",
      "You're in a dark room. Exits: north\n",
      "Invalid choice\n",
      "You're in a dark room. Exits: north\n",
      "Invalid choice\n",
      "You're in a dark room. Exits: north\n",
      "Invalid choice\n",
      "You're in a dark room. Exits: north\n",
      "Invalid choice\n",
      "You're in a dark room. Exits: north\n",
      "Invalid choice\n",
      "You're in a dark room. Exits: north\n",
      "Invalid choice\n",
      "You're in a dark room. Exits: north\n"
     ]
    },
    {
     "ename": "KeyboardInterrupt",
     "evalue": "Interrupted by user",
     "output_type": "error",
     "traceback": [
      "\u001b[1;31m---------------------------------------------------------------------------\u001b[0m",
      "\u001b[1;31mKeyboardInterrupt\u001b[0m                         Traceback (most recent call last)",
      "Cell \u001b[1;32mIn[3], line 8\u001b[0m\n\u001b[0;32m      6\u001b[0m \u001b[38;5;28;01mif\u001b[39;00m current_room \u001b[38;5;241m==\u001b[39m \u001b[38;5;124m\"\u001b[39m\u001b[38;5;124mstart\u001b[39m\u001b[38;5;124m\"\u001b[39m:\n\u001b[0;32m      7\u001b[0m     \u001b[38;5;28mprint\u001b[39m(\u001b[38;5;124m\"\u001b[39m\u001b[38;5;124mYou\u001b[39m\u001b[38;5;124m'\u001b[39m\u001b[38;5;124mre in a dark room. Exits: north\u001b[39m\u001b[38;5;124m\"\u001b[39m)\n\u001b[1;32m----> 8\u001b[0m     choice \u001b[38;5;241m=\u001b[39m \u001b[38;5;28;43minput\u001b[39;49m\u001b[43m(\u001b[49m\u001b[38;5;124;43m\"\u001b[39;49m\u001b[38;5;124;43mWhich way? \u001b[39;49m\u001b[38;5;124;43m\"\u001b[39;49m\u001b[43m)\u001b[49m\u001b[38;5;241m.\u001b[39mlower()\n\u001b[0;32m      9\u001b[0m     \u001b[38;5;28;01mif\u001b[39;00m choice \u001b[38;5;241m==\u001b[39m \u001b[38;5;124m'\u001b[39m\u001b[38;5;124mnorth\u001b[39m\u001b[38;5;124m'\u001b[39m:\n\u001b[0;32m     10\u001b[0m         current_room \u001b[38;5;241m=\u001b[39m \u001b[38;5;124m\"\u001b[39m\u001b[38;5;124mtreasure\u001b[39m\u001b[38;5;124m\"\u001b[39m\n",
      "File \u001b[1;32md:\\Automation\\Proyectos\\python-notes\\.venv\\lib\\site-packages\\ipykernel\\kernelbase.py:1260\u001b[0m, in \u001b[0;36mKernel.raw_input\u001b[1;34m(self, prompt)\u001b[0m\n\u001b[0;32m   1258\u001b[0m     msg \u001b[38;5;241m=\u001b[39m \u001b[38;5;124m\"\u001b[39m\u001b[38;5;124mraw_input was called, but this frontend does not support input requests.\u001b[39m\u001b[38;5;124m\"\u001b[39m\n\u001b[0;32m   1259\u001b[0m     \u001b[38;5;28;01mraise\u001b[39;00m StdinNotImplementedError(msg)\n\u001b[1;32m-> 1260\u001b[0m \u001b[38;5;28;01mreturn\u001b[39;00m \u001b[38;5;28;43mself\u001b[39;49m\u001b[38;5;241;43m.\u001b[39;49m\u001b[43m_input_request\u001b[49m\u001b[43m(\u001b[49m\n\u001b[0;32m   1261\u001b[0m \u001b[43m    \u001b[49m\u001b[38;5;28;43mstr\u001b[39;49m\u001b[43m(\u001b[49m\u001b[43mprompt\u001b[49m\u001b[43m)\u001b[49m\u001b[43m,\u001b[49m\n\u001b[0;32m   1262\u001b[0m \u001b[43m    \u001b[49m\u001b[38;5;28;43mself\u001b[39;49m\u001b[38;5;241;43m.\u001b[39;49m\u001b[43m_parent_ident\u001b[49m\u001b[43m[\u001b[49m\u001b[38;5;124;43m\"\u001b[39;49m\u001b[38;5;124;43mshell\u001b[39;49m\u001b[38;5;124;43m\"\u001b[39;49m\u001b[43m]\u001b[49m\u001b[43m,\u001b[49m\n\u001b[0;32m   1263\u001b[0m \u001b[43m    \u001b[49m\u001b[38;5;28;43mself\u001b[39;49m\u001b[38;5;241;43m.\u001b[39;49m\u001b[43mget_parent\u001b[49m\u001b[43m(\u001b[49m\u001b[38;5;124;43m\"\u001b[39;49m\u001b[38;5;124;43mshell\u001b[39;49m\u001b[38;5;124;43m\"\u001b[39;49m\u001b[43m)\u001b[49m\u001b[43m,\u001b[49m\n\u001b[0;32m   1264\u001b[0m \u001b[43m    \u001b[49m\u001b[43mpassword\u001b[49m\u001b[38;5;241;43m=\u001b[39;49m\u001b[38;5;28;43;01mFalse\u001b[39;49;00m\u001b[43m,\u001b[49m\n\u001b[0;32m   1265\u001b[0m \u001b[43m\u001b[49m\u001b[43m)\u001b[49m\n",
      "File \u001b[1;32md:\\Automation\\Proyectos\\python-notes\\.venv\\lib\\site-packages\\ipykernel\\kernelbase.py:1305\u001b[0m, in \u001b[0;36mKernel._input_request\u001b[1;34m(self, prompt, ident, parent, password)\u001b[0m\n\u001b[0;32m   1302\u001b[0m \u001b[38;5;28;01mexcept\u001b[39;00m \u001b[38;5;167;01mKeyboardInterrupt\u001b[39;00m:\n\u001b[0;32m   1303\u001b[0m     \u001b[38;5;66;03m# re-raise KeyboardInterrupt, to truncate traceback\u001b[39;00m\n\u001b[0;32m   1304\u001b[0m     msg \u001b[38;5;241m=\u001b[39m \u001b[38;5;124m\"\u001b[39m\u001b[38;5;124mInterrupted by user\u001b[39m\u001b[38;5;124m\"\u001b[39m\n\u001b[1;32m-> 1305\u001b[0m     \u001b[38;5;28;01mraise\u001b[39;00m \u001b[38;5;167;01mKeyboardInterrupt\u001b[39;00m(msg) \u001b[38;5;28;01mfrom\u001b[39;00m\u001b[38;5;250m \u001b[39m\u001b[38;5;28;01mNone\u001b[39;00m\n\u001b[0;32m   1306\u001b[0m \u001b[38;5;28;01mexcept\u001b[39;00m \u001b[38;5;167;01mException\u001b[39;00m:\n\u001b[0;32m   1307\u001b[0m     \u001b[38;5;28mself\u001b[39m\u001b[38;5;241m.\u001b[39mlog\u001b[38;5;241m.\u001b[39mwarning(\u001b[38;5;124m\"\u001b[39m\u001b[38;5;124mInvalid Message:\u001b[39m\u001b[38;5;124m\"\u001b[39m, exc_info\u001b[38;5;241m=\u001b[39m\u001b[38;5;28;01mTrue\u001b[39;00m)\n",
      "\u001b[1;31mKeyboardInterrupt\u001b[0m: Interrupted by user"
     ]
    }
   ],
   "source": [
    "# Simple text adventure game\n",
    "current_room = \"start\"\n",
    "game_over = False\n",
    "\n",
    "while not game_over:\n",
    "    if current_room == \"start\":\n",
    "        print(\"You're in a dark room. Exits: north\")\n",
    "        choice = input(\"Which way? \").lower()\n",
    "        if choice == 'north':\n",
    "            current_room = \"treasure\"\n",
    "        else:\n",
    "            print(\"Invalid choice\")\n",
    "    \n",
    "    elif current_room == \"treasure\":\n",
    "        print(\"You found the treasure! You win!\")\n",
    "        game_over = True"
   ]
  },
  {
   "cell_type": "markdown",
   "id": "126c8c56",
   "metadata": {},
   "source": [
    "12. Data Stream Processing"
   ]
  },
  {
   "cell_type": "code",
   "execution_count": 4,
   "id": "87e1c2e7",
   "metadata": {},
   "outputs": [
    {
     "name": "stdout",
     "output_type": "stream",
     "text": [
      "Processing value: 10\n",
      "Processing value: 20\n",
      "Processing value: 30\n",
      "Processing value: 40\n"
     ]
    }
   ],
   "source": [
    "# Simulate processing data from a stream\n",
    "data_stream = iter([10, 20, 30, 40, None])  # None signals end\n",
    "\n",
    "while True:\n",
    "    value = next(data_stream, None)\n",
    "    if value is None:\n",
    "        break\n",
    "    print(f\"Processing value: {value}\")\n",
    "    # Process the value here"
   ]
  },
  {
   "cell_type": "markdown",
   "id": "263e808f",
   "metadata": {},
   "source": [
    "13. Timeout Implementation"
   ]
  },
  {
   "cell_type": "code",
   "execution_count": null,
   "id": "d8da7e63",
   "metadata": {},
   "outputs": [],
   "source": [
    "# Operation with timeout\n",
    "import time\n",
    "\n",
    "timeout = 5  # seconds\n",
    "start_time = time.time()\n",
    "condition_met = False\n",
    "\n",
    "while time.time() - start_time < timeout:\n",
    "    # Check some condition\n",
    "    if random.random() > 0.8:  # Simulate condition\n",
    "        condition_met = True\n",
    "        break\n",
    "    time.sleep(0.5)  # Don't busy-wait\n",
    "\n",
    "if condition_met:\n",
    "    print(\"Condition met!\")\n",
    "else:\n",
    "    print(\"Timeout reached\")"
   ]
  },
  {
   "cell_type": "markdown",
   "id": "262a1a68",
   "metadata": {},
   "source": [
    "14. Queue Processing"
   ]
  },
  {
   "cell_type": "code",
   "execution_count": null,
   "id": "a6c6d748",
   "metadata": {},
   "outputs": [],
   "source": [
    "# Process items from a queue\n",
    "queue = [1, 2, 3, 4, 5]\n",
    "\n",
    "while queue:  # While queue is not empty\n",
    "    item = queue.pop(0)\n",
    "    print(f\"Processing item: {item}\")\n",
    "    # Process item here"
   ]
  },
  {
   "cell_type": "markdown",
   "id": "7ac661dd",
   "metadata": {},
   "source": [
    "15. Complex Condition Checking"
   ]
  },
  {
   "cell_type": "code",
   "execution_count": null,
   "id": "6aa97471",
   "metadata": {},
   "outputs": [],
   "source": [
    "# Multiple conditions\n",
    "temperature = 20\n",
    "pressure = 100\n",
    "running = True\n",
    "\n",
    "while running and (temperature < 100 or pressure < 200):\n",
    "    print(f\"Temp: {temperature}, Pressure: {pressure}\")\n",
    "    temperature += 5\n",
    "    pressure += 10\n",
    "    if temperature > 80 and pressure > 150:\n",
    "        running = False\n",
    "print(\"System shutdown\")"
   ]
  }
 ],
 "metadata": {
  "kernelspec": {
   "display_name": ".venv",
   "language": "python",
   "name": "python3"
  },
  "language_info": {
   "codemirror_mode": {
    "name": "ipython",
    "version": 3
   },
   "file_extension": ".py",
   "mimetype": "text/x-python",
   "name": "python",
   "nbconvert_exporter": "python",
   "pygments_lexer": "ipython3",
   "version": "3.10.0"
  }
 },
 "nbformat": 4,
 "nbformat_minor": 5
}
